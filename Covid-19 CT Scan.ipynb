{
  "cells": [
    {
      "cell_type": "code",
      "execution_count": null,
      "metadata": {
        "id": "wfbFTYM9tNFP"
      },
      "outputs": [],
      "source": [
        "from google.colab import drive\n",
        "drive.mount('/content/drive')"
      ]
    },
    {
      "cell_type": "markdown",
      "source": [
        "### Import all dependencies"
      ],
      "metadata": {
        "id": "wLjfa8fJPFOG"
      }
    },
    {
      "cell_type": "code",
      "execution_count": null,
      "metadata": {
        "id": "cHjtE7-AtFQB"
      },
      "outputs": [],
      "source": [
        "import numpy as np\n",
        "import matplotlib.pyplot as plt\n",
        "import seaborn as sns\n",
        "\n",
        "import cv2\n",
        "from glob import glob\n",
        "\n",
        "from builtins import range, input\n",
        "\n",
        "from tensorflow.keras.layers import Input, Lambda, Dense, Flatten, AveragePooling2D, Dropout\n",
        "from tensorflow.keras.models import Model, load_model\n",
        "from tensorflow.keras.applications.resnet50 import ResNet50\n",
        "from tensorflow.keras.applications.resnet50 import preprocess_input\n",
        "from tensorflow.keras.preprocessing import image\n",
        "from tensorflow.keras.preprocessing.image import ImageDataGenerator\n",
        "from tensorflow.keras.utils import to_categorical\n",
        "\n",
        "from sklearn.metrics import confusion_matrix, roc_curve, classification_report\n",
        "\n",
        "from sklearn.model_selection import train_test_split\n",
        "from sklearn.preprocessing import LabelBinarizer"
      ]
    },
    {
      "cell_type": "markdown",
      "source": [
        "### Define Few Parameters"
      ],
      "metadata": {
        "id": "OfLk2qTzPLft"
      }
    },
    {
      "cell_type": "code",
      "execution_count": null,
      "metadata": {
        "id": "vV-gmUSQtPV4"
      },
      "outputs": [],
      "source": [
        "# define size to which images are to be resized\n",
        "IMAGE_SIZE = [224, 224]\n",
        "\n",
        "# training config:\n",
        "epochs = 500\n",
        "batch_size = 32\n",
        "\n",
        "# define paths\n",
        "covid_path = '/content/drive/MyDrive/Colab Notebooks/Covid-19 CT Scan/data/CT_COVID'\n",
        "noncovid_path = '/content/drive/MyDrive/Colab Notebooks/Covid-19 CT Scan/data/CT_NonCOVID'\n",
        "\n",
        "# use gloab to grab images from path .jpg or .jpeg\n",
        "covid_files = glob(covid_path + '/*')\n",
        "noncovid_files = glob(noncovid_path + '/*')"
      ]
    },
    {
      "cell_type": "code",
      "execution_count": null,
      "metadata": {
        "id": "QzHkcwYDtSOH"
      },
      "outputs": [],
      "source": [
        "# Visualize file variable contents\n",
        "\n",
        "print('First 5 Covid Files : ', covid_files[0:5])\n",
        "print('Total Count :', len(covid_files))\n",
        "\n",
        "print('First 5 NonCovid Files : ', noncovid_files[0:5])\n",
        "print('Total Count : ', len(noncovid_files))"
      ]
    },
    {
      "cell_type": "markdown",
      "source": [
        "### Fetch Images and Class Labels from Files (This might take a while)"
      ],
      "metadata": {
        "id": "bxxnUkcnPPru"
      }
    },
    {
      "cell_type": "code",
      "execution_count": null,
      "metadata": {
        "id": "pbmcjh1ctUUa"
      },
      "outputs": [],
      "source": [
        "# fetch images and class labels from files\n",
        "\n",
        "covid_labels = []\n",
        "noncovid_labels = []\n",
        "\n",
        "covid_images = []\n",
        "noncovid_images = []\n",
        "\n",
        "for i in range(len(covid_files)):\n",
        "    image = cv2.imread(covid_files[i])\n",
        "    image = cv2.cvtColor(image, cv2.COLOR_BGR2RGB)\n",
        "    image = cv2.resize(image, (224, 224))\n",
        "    covid_images.append(image)\n",
        "    covid_labels.append('CT_COVID')\n",
        "    \n",
        "for i in range(len(noncovid_files)):\n",
        "    image = cv2.imread(noncovid_files[i])\n",
        "    image = cv2.cvtColor(image, cv2.COLOR_BGR2RGB)\n",
        "    image = cv2.resize(image, (224, 224))\n",
        "    noncovid_images.append(image)\n",
        "    noncovid_labels.append('CT_NonCovID')"
      ]
    },
    {
      "cell_type": "markdown",
      "source": [
        "### Visualize First 40 Images from Data set"
      ],
      "metadata": {
        "id": "dkfV5nSMPSNV"
      }
    },
    {
      "cell_type": "code",
      "execution_count": null,
      "metadata": {
        "id": "CqRRsQ0YtWmN"
      },
      "outputs": [],
      "source": [
        "# look at a random image for fun\n",
        "\n",
        "def plot_images(images, title):\n",
        "    nrows, ncols = 5, 8\n",
        "    figsize = [10, 6]\n",
        "    \n",
        "    fig, ax = plt.subplots(nrows = nrows, ncols = ncols, figsize = figsize, facecolor = (1, 1, 1))\n",
        "    \n",
        "    for i, axi in enumerate(ax.flat):\n",
        "        axi.imshow(images[i])\n",
        "        axi.set_axis_off()\n",
        "        \n",
        "    plt.suptitle(title)\n",
        "    plt.tight_layout(pad = 0.2, rect = [0, 0, 1, 0.9])\n",
        "    plt.show()\n",
        "    \n",
        "plot_images(covid_images, 'Positive COVID-19 CT Scan')\n",
        "plot_images(noncovid_images, 'Negative COVID-19 CT Scan')"
      ]
    },
    {
      "cell_type": "markdown",
      "source": [
        "### **Normalization**\n",
        "\n",
        "Model takes images in the form of array of pixels. Hence convert into array and *normalize*"
      ],
      "metadata": {
        "id": "9gBbLXenPWoW"
      }
    },
    {
      "cell_type": "code",
      "execution_count": null,
      "metadata": {
        "id": "qjDkhDV18A4M"
      },
      "outputs": [],
      "source": [
        "# convert to array and normalize to interval of [0, 1]\n",
        "\n",
        "covid_images = np.array(covid_images) / 255\n",
        "noncovid_images = np.array(noncovid_images) / 255"
      ]
    },
    {
      "cell_type": "markdown",
      "source": [
        "### **Train Test Split**"
      ],
      "metadata": {
        "id": "hLsiOVO9PaM5"
      }
    },
    {
      "cell_type": "code",
      "execution_count": null,
      "metadata": {
        "id": "9BhbcA_u8Bs3"
      },
      "outputs": [],
      "source": [
        "# Split into training and testing sets for both types of images\n",
        "\n",
        "covid_x_train, covid_x_test, covid_y_train, covid_y_test = train_test_split(covid_images, covid_labels, test_size = 0.2)\n",
        "noncovid_x_train, noncovid_x_test, noncovid_y_train, noncovid_y_test = train_test_split(noncovid_images, noncovid_labels, test_size = 0.2)\n",
        "\n",
        "# Merge sets for both types of images\n",
        "\n",
        "x_train = np.concatenate((noncovid_x_train, covid_x_train), axis = 0)\n",
        "x_test = np.concatenate((noncovid_x_test, covid_x_test), axis = 0)\n",
        "y_train = np.concatenate((noncovid_y_train, covid_y_train), axis = 0)\n",
        "y_test = np.concatenate((noncovid_y_test, covid_y_test), axis = 0)\n",
        "\n",
        "# Make labels into categories - either 0 or 1, for our model\n",
        "\n",
        "y_train = LabelBinarizer().fit_transform(y_train)\n",
        "y_train = to_categorical(y_train)\n",
        "\n",
        "y_test = LabelBinarizer().fit_transform(y_test)\n",
        "y_test = to_categorical(y_test)"
      ]
    },
    {
      "cell_type": "markdown",
      "source": [
        "### Visualize a few images from Training and Test sets"
      ],
      "metadata": {
        "id": "qxt67OMaPcfW"
      }
    },
    {
      "cell_type": "code",
      "execution_count": null,
      "metadata": {
        "id": "vuRQL73V8EhI"
      },
      "outputs": [],
      "source": [
        "plot_images(covid_x_train, 'x_train')\n",
        "plot_images(covid_x_test, 'x_test')\n",
        "\n",
        "# y_train and y_test contain class lables 0 and 1 representing COVID and NonCOVID for X_train and X_test"
      ]
    },
    {
      "cell_type": "markdown",
      "source": [
        "### **Building and Visualizing model**"
      ],
      "metadata": {
        "id": "csJ5JBLmPghH"
      }
    },
    {
      "cell_type": "code",
      "execution_count": null,
      "metadata": {
        "id": "roQkfRX58Gd8"
      },
      "outputs": [],
      "source": [
        "# building model\n",
        "\n",
        "resnet = ResNet50(weights = 'imagenet', include_top = False, input_tensor = Input(shape = (224, 224, 3)))\n",
        "\n",
        "outputs = resnet.output\n",
        "outputs = Flatten(name = 'flatten')(outputs)\n",
        "outputs = Dropout(0.5)(outputs)\n",
        "outputs = Dense(2, activation = 'softmax')(outputs)\n",
        "\n",
        "model = Model(inputs = resnet.input, outputs = outputs)\n",
        "\n",
        "for layer in resnet.layers:\n",
        "    layer.trainable = False\n",
        "    \n",
        "model.compile(loss = 'categorical_crossentropy', optimizer = 'adam', metrics = ['accuracy'])"
      ]
    },
    {
      "cell_type": "code",
      "execution_count": null,
      "metadata": {
        "id": "Ejf0cRNt8JM-"
      },
      "outputs": [],
      "source": [
        "# visualize Model\n",
        "\n",
        "model.summary()"
      ]
    },
    {
      "cell_type": "markdown",
      "source": [
        "### **Image Augmentation**\n",
        "\n",
        "To train on images at different positions, angles, flips, etc"
      ],
      "metadata": {
        "id": "NEzZLn9jPkq9"
      }
    },
    {
      "cell_type": "code",
      "execution_count": null,
      "metadata": {
        "id": "QGQAjevk8LM8"
      },
      "outputs": [],
      "source": [
        "# image augmentation\n",
        "\n",
        "image_aug = ImageDataGenerator(rotation_range = 20, \n",
        "                              width_shift_range = 0.2, \n",
        "                              height_shift_range = 0.2,\n",
        "                              horizontal_flip = True)"
      ]
    },
    {
      "cell_type": "markdown",
      "source": [
        "### **Training the model**"
      ],
      "metadata": {
        "id": "yS9rmHoZPooa"
      }
    },
    {
      "cell_type": "code",
      "execution_count": null,
      "metadata": {
        "id": "kc8f8rsu8NcQ"
      },
      "outputs": [],
      "source": [
        "# training the model\n",
        "\n",
        "history = model.fit(image_aug.flow(x_train, y_train, batch_size = batch_size), \n",
        "                   validation_data = (x_test, y_test),\n",
        "                   validation_steps = len(x_test) / batch_size,\n",
        "                   steps_per_epoch = len(x_train) / batch_size,\n",
        "                   epochs = epochs)"
      ]
    },
    {
      "cell_type": "markdown",
      "source": [
        "### **Making Predicions**"
      ],
      "metadata": {
        "id": "qiY-WktkPsa1"
      }
    },
    {
      "cell_type": "code",
      "execution_count": null,
      "metadata": {
        "id": "BQHmhEsv8Pog"
      },
      "outputs": [],
      "source": [
        "# save model and weights\n",
        "\n",
        "model.save('/content/drive/MyDrive/Colab Notebooks/Covid-19 CT Scan/covid-19_ct_scan.h5')\n",
        "model.save_weights('/content/drive/MyDrive/Colab Notebooks/Covid-19 CT Scan/covid-19_ct_scan_weights.h5')"
      ]
    },
    {
      "cell_type": "code",
      "execution_count": null,
      "metadata": {
        "id": "WFarqXI98SA1"
      },
      "outputs": [],
      "source": [
        "# load saved model\n",
        "\n",
        "model = load_model('/content/drive/MyDrive/Colab Notebooks/Covid-19 CT Scan/covid-19_ct_scan.h5')"
      ]
    },
    {
      "cell_type": "code",
      "execution_count": null,
      "metadata": {
        "id": "xE_tDDUf8T7U"
      },
      "outputs": [],
      "source": [
        "y_pred = model.predict(x_test, batch_size = batch_size)"
      ]
    },
    {
      "cell_type": "markdown",
      "source": [
        "### Visulaizing First 10 predictions"
      ],
      "metadata": {
        "id": "Xyj0hrDcPwFO"
      }
    },
    {
      "cell_type": "code",
      "execution_count": null,
      "metadata": {
        "id": "Zh-nbYxr8XoB"
      },
      "outputs": [],
      "source": [
        "prediction = y_pred[0:10]\n",
        "\n",
        "for index, probability in enumerate(prediction):\n",
        "    if probability[1] > 0.5:\n",
        "        plt.title('%.2f' % (probability[1] * 100) + '% COVID')\n",
        "    else:\n",
        "        plt.title('%.2f' % ((1 - probability[1]) * 100) + '% NonCOVID')\n",
        "        \n",
        "    plt.imshow(x_test[index])\n",
        "    plt.show()"
      ]
    },
    {
      "cell_type": "code",
      "execution_count": null,
      "metadata": {
        "id": "W6feNKBV8b9s"
      },
      "outputs": [],
      "source": [
        "# convert to binary classes\n",
        "\n",
        "y_pred_bin = np.argmax(y_pred, axis = 1)\n",
        "y_test_bin = np.argmax(y_test, axis = 1)"
      ]
    },
    {
      "cell_type": "markdown",
      "source": [
        "### Plot ROC Curve"
      ],
      "metadata": {
        "id": "mVkioXbgP0pi"
      }
    },
    {
      "cell_type": "code",
      "execution_count": null,
      "metadata": {
        "id": "buy_yV888d2q"
      },
      "outputs": [],
      "source": [
        "fpr, tpr, thresholds = roc_curve(y_test_bin, y_pred_bin)\n",
        "\n",
        "plt.plot(fpr, tpr)\n",
        "plt.xlim([0.0, 1.0])\n",
        "plt.ylim([0.0, 1.0])\n",
        "plt.rcParams['font.size'] = 12\n",
        "plt.title('ROC curve for our model')\n",
        "plt.xlabel('False Positive Rate')\n",
        "plt.ylabel('True Positive Rate')\n",
        "plt.grid(True)"
      ]
    },
    {
      "cell_type": "markdown",
      "source": [
        "### Plot Confusion Matrix"
      ],
      "metadata": {
        "id": "ZhM5Iky_P38s"
      }
    },
    {
      "cell_type": "code",
      "execution_count": null,
      "metadata": {
        "id": "HJn5kFqa8em7"
      },
      "outputs": [],
      "source": [
        "def plot_confusion_matrix(normalize):\n",
        "  classes = ['COVID','NonCOVID']\n",
        "  tick_marks = [0.5, 1.5]\n",
        "  cn = confusion_matrix(y_test_bin, y_pred_bin, normalize = normalize)\n",
        "  sns.heatmap(cn,cmap = 'viridis',annot=True)\n",
        "  plt.xticks(tick_marks, classes)\n",
        "  plt.yticks(tick_marks, classes)\n",
        "  plt.title('Confusion Matrix')\n",
        "  plt.ylabel('True label')\n",
        "  plt.xlabel('Predicted label')\n",
        "  plt.show()\n",
        "\n",
        "print('Confusion Matrix without Normalization')\n",
        "plot_confusion_matrix(normalize = None)\n",
        "\n",
        "print('Confusion Matrix with Normalized Values')\n",
        "plot_confusion_matrix(normalize = 'true')"
      ]
    },
    {
      "cell_type": "markdown",
      "source": [
        "### **Classification Report**"
      ],
      "metadata": {
        "id": "kLo-hTKISExd"
      }
    },
    {
      "cell_type": "code",
      "execution_count": null,
      "metadata": {
        "id": "gfvE0kTo8g11"
      },
      "outputs": [],
      "source": [
        "print(classification_report(y_test_bin, y_pred_bin))"
      ]
    },
    {
      "cell_type": "markdown",
      "source": [
        "### **Accuracy and Loss Plots**"
      ],
      "metadata": {
        "id": "4ctL3YqSSHKC"
      }
    },
    {
      "cell_type": "code",
      "execution_count": null,
      "metadata": {
        "id": "tpHE0Ful8lej"
      },
      "outputs": [],
      "source": [
        "plt.plot(history.history['accuracy'])\n",
        "plt.plot(history.history['val_accuracy'])\n",
        "\n",
        "plt.title('Model Accuracy')\n",
        "plt.ylabel('Accuracy')\n",
        "plt.xlabel('Epoch')\n",
        "\n",
        "plt.legend(['Training', 'Testing'])\n",
        "plt.savefig('/content/drive/MyDrive/Colab Notebooks/Covid-19 CT Scan/covid-19_ct_scan_accuracy.png')\n",
        "plt.show()"
      ]
    },
    {
      "cell_type": "code",
      "execution_count": null,
      "metadata": {
        "id": "fyIPZZ0g8mVc"
      },
      "outputs": [],
      "source": [
        "plt.plot(history.history['loss'])\n",
        "plt.plot(history.history['val_loss'])\n",
        "\n",
        "plt.title('Model Loss')\n",
        "plt.ylabel('Loss')\n",
        "plt.xlabel('Epoch')\n",
        "\n",
        "plt.legend(['Training', 'Testing'])\n",
        "plt.savefig('/content/drive/MyDrive/Colab Notebooks/Covid-19 CT Scan/covid-19_ct_scan_loss.png')\n",
        "plt.show()"
      ]
    },
    {
      "cell_type": "code",
      "source": [],
      "metadata": {
        "id": "5ni8TEi5SLX3"
      },
      "execution_count": null,
      "outputs": []
    }
  ],
  "metadata": {
    "colab": {
      "provenance": [],
      "gpuType": "T4",
      "private_outputs": true
    },
    "kernelspec": {
      "display_name": "Python 3",
      "name": "python3"
    },
    "language_info": {
      "name": "python"
    },
    "accelerator": "GPU"
  },
  "nbformat": 4,
  "nbformat_minor": 0
}